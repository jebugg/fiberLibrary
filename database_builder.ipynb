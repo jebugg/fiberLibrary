{
 "cells": [
  {
   "cell_type": "code",
   "execution_count": 2,
   "metadata": {},
   "outputs": [],
   "source": [
    "import sqlite3"
   ]
  },
  {
   "cell_type": "code",
   "execution_count": 3,
   "metadata": {},
   "outputs": [],
   "source": [
    "db_path = \"laminateBase.db\"\n",
    "conn = sqlite3.connect(db_path)"
   ]
  },
  {
   "cell_type": "code",
   "execution_count": 4,
   "metadata": {},
   "outputs": [],
   "source": [
    "conn.close()"
   ]
  },
  {
   "cell_type": "code",
   "execution_count": 26,
   "metadata": {},
   "outputs": [],
   "source": [
    "# raise RuntimeError(\"Attempted to run all cells!\")"
   ]
  },
  {
   "cell_type": "code",
   "execution_count": 27,
   "metadata": {},
   "outputs": [],
   "source": [
    "### DELETE WHOLE DATABASE \n"
   ]
  },
  {
   "cell_type": "code",
   "execution_count": 23,
   "metadata": {},
   "outputs": [],
   "source": [
    "def createTableStr(name:str, table:list) -> None:\n",
    "    tableString = f\"CREATE TABLE IF NOT EXISTS {name} (\"\n",
    "    for row in table:\n",
    "        tableString += row + \", \"\n",
    "    \n",
    "    tableString = tableString[:-2]\n",
    "    tableString += \")\"\n",
    "    return tableString"
   ]
  },
  {
   "cell_type": "markdown",
   "metadata": {},
   "source": [
    "Defining basic attribute tables"
   ]
  },
  {
   "cell_type": "code",
   "execution_count": 29,
   "metadata": {},
   "outputs": [],
   "source": [
    "tb_materials = [\"NAME TEXT\"]\n",
    "\n",
    "tb_usecases = [\"NAME TEXT\"]\n",
    "\n",
    "tb_stackings = [\"NAME TEXT\"]\n",
    "\n",
    "tb_weaves = [\"NAME TEXT\"]\n",
    "\n",
    "tb_states = [\"NAME TEXT\"]\n",
    "\n",
    "\n",
    "list_materials = [\"Aramid\", \"Carbon\", \"Aluminium\", \"Glass\"]\n",
    "list_usecases = [\"High stiffness\", \"Stiffness\", \"Geometry\", \"Strength\", \"High strength\", \"Electric isolation\", \"Fire safety\"] \n",
    "list_stackings = [\"Symmetric\", \"Total\", \"Inverted\"]\n",
    "list_weaves = [\"Twill\", \"Weave\"]\n",
    "list_states = [\"New\", \"Ok\", \"Old\", \"Discarded\"]"
   ]
  },
  {
   "cell_type": "markdown",
   "metadata": {},
   "source": [
    "Create the different basic attribute tables "
   ]
  },
  {
   "cell_type": "code",
   "execution_count": 30,
   "metadata": {},
   "outputs": [],
   "source": [
    "cur = conn.cursor()\n",
    "\n",
    "cur.execute(createTableStr(\"materials\", tb_materials))\n",
    "cur.execute(createTableStr(\"usecases\", tb_usecases))\n",
    "cur.execute(createTableStr(\"stackings\", tb_stackings))\n",
    "cur.execute(createTableStr(\"weaves\", tb_weaves))\n",
    "cur.execute(createTableStr(\"states\", tb_states))\n",
    "\n",
    "cur.close()"
   ]
  },
  {
   "cell_type": "markdown",
   "metadata": {},
   "source": [
    "Populate basic attribute tables"
   ]
  },
  {
   "cell_type": "code",
   "execution_count": 31,
   "metadata": {},
   "outputs": [],
   "source": [
    "cur = conn.cursor()\n",
    "\n",
    "for material in list_materials:\n",
    "    cur.execute(\"INSERT INTO materials(name) VALUES (?)\", (material,))\n",
    "\n",
    "for usecase in list_usecases:\n",
    "    cur.execute(\"INSERT INTO usecases(name) VALUES (?)\", (usecase,))\n",
    "\n",
    "for stacking in list_stackings:\n",
    "    cur.execute(\"INSERT INTO stackings(name) VALUES (?)\", (stacking,))\n",
    "\n",
    "for weave in list_weaves:\n",
    "    cur.execute(\"INSERT INTO weaves(name) VALUES (?)\", (weave,))\n",
    "\n",
    "for state in list_states:\n",
    "    cur.execute(\"INSERT INTO states(name) VALUES (?)\", (state,))\n",
    "cur.close()\n",
    "conn.commit()\n"
   ]
  },
  {
   "cell_type": "markdown",
   "metadata": {},
   "source": [
    "Create Fibers table"
   ]
  },
  {
   "cell_type": "code",
   "execution_count": 35,
   "metadata": {},
   "outputs": [],
   "source": [
    "tb_fibers = [\"name TEXT\",\n",
    "             \"material INT\",\n",
    "             \"modulus REAL\",\n",
    "             \"uts REAL\",\n",
    "             \"rho REAL\",\n",
    "             \"comment TEXT\",\n",
    "             \"FOREIGN KEY(material) REFERENCES materials(rowid)\"]\n",
    "\n",
    "cur = conn.cursor()\n",
    "\n",
    "cur.execute(createTableStr(\"fibers\", tb_fibers))\n",
    "cur.close()\n",
    "conn.commit()"
   ]
  },
  {
   "cell_type": "code",
   "execution_count": 4,
   "metadata": {},
   "outputs": [
    {
     "name": "stdout",
     "output_type": "stream",
     "text": [
      "Database connected successfully!\n",
      "True Fiber added to database\n"
     ]
    }
   ],
   "source": [
    "from db_sqlite3_v3 import DbHandler\n",
    "\n",
    "test_data = {\"name\":\"testfiber 3\", \"material\":1, \"modulus\":230, \"uts\":45, \"rho\":955, \"comment\":\"Testfiber\"}\n",
    "db = DbHandler(\"laminateBase.db\")\n",
    "success, msg = db.addFiber(test_data)\n",
    "\n",
    "print(success, msg)\n",
    "# cur = conn.cursor()\n",
    "# cur.execute"
   ]
  },
  {
   "cell_type": "markdown",
   "metadata": {},
   "source": [
    "Populate fibers table with dummy data"
   ]
  },
  {
   "cell_type": "code",
   "execution_count": 36,
   "metadata": {},
   "outputs": [],
   "source": [
    "# list_fibers = [[\"Aramid test\", 1, 260, 50, 6.2, \"Testfiber 1\"],\n",
    "#                [\"IMS60\", 2, 300, 420, 4.2, \"Testfiber 2\"]]\n",
    "\n",
    "# cur = conn.cursor()\n",
    "\n",
    "# for fiber in list_fibers:\n",
    "#     cur.execute(\"INSERT INTO fibers(name, material, modulus, uts, rho, comment) VALUES (?,?,?,?,?,?)\", tuple(fiber))\n",
    "\n",
    "# cur.close()\n",
    "# conn.commit()"
   ]
  },
  {
   "cell_type": "markdown",
   "metadata": {},
   "source": [
    "Create matrix table"
   ]
  },
  {
   "cell_type": "code",
   "execution_count": 37,
   "metadata": {},
   "outputs": [],
   "source": [
    "tb_matricies = [\"name TEXT\",\n",
    "                \"material INT\",\n",
    "                \"E REAL\",\n",
    "                \"G REAL\",\n",
    "                \"nu REAL\",\n",
    "                \"rho REAL\",\n",
    "                \"uts REAL\",\n",
    "                \"firesafe BOOLEAN\",\n",
    "                \"comment TEXT\",\n",
    "                \"FOREIGN KEY(material) REFERENCES materials(rowid)\"]\n",
    "\n",
    "cur = conn.cursor()\n",
    "\n",
    "cur.execute(createTableStr(\"matricies\",tb_matricies))\n",
    "cur.close()\n",
    "conn.commit()"
   ]
  },
  {
   "cell_type": "markdown",
   "metadata": {},
   "source": [
    "Insert dummy data into matricies table"
   ]
  },
  {
   "cell_type": "code",
   "execution_count": 38,
   "metadata": {},
   "outputs": [],
   "source": [
    "list_matricies = [[\"DT120\", 3, 100, 40, 0.3, 50, 20, True, \"no comment\"]]\n",
    "\n",
    "cur = conn.cursor()\n",
    "for matrix in list_matricies:\n",
    "    cur.execute(\"INSERT INTO matricies(name, material, e, g, nu, rho, uts, firesafe, comment) VALUES (?,?,?,?,?,?,?,?,?)\", tuple(matrix))\n",
    "cur.close()\n",
    "conn.commit()\n",
    "\n"
   ]
  },
  {
   "cell_type": "markdown",
   "metadata": {},
   "source": [
    "Create Laminas table"
   ]
  },
  {
   "cell_type": "code",
   "execution_count": 28,
   "metadata": {},
   "outputs": [],
   "source": [
    "tb_laminas = [\"name TEXT\",\n",
    "              \"fiber INT\",\n",
    "              \"use INT\",\n",
    "              \"E1 REAL\",\n",
    "              \"E2 REAL\",\n",
    "              \"G12 REAL\",\n",
    "              \"nu REAL\",\n",
    "              \"vff REAL\",\n",
    "              \"faw REAL\", \n",
    "              \"thickness REAL\",\n",
    "              \"matrix REAL\",\n",
    "              \"weave INT\",\n",
    "              \"comment TEXT\",\n",
    "              \"FOREIGN KEY(fiber) REFERENCES fibers(rowid)\",\n",
    "              \"FOREIGN KEY(use) REFERENCES usecases(rowid)\",\n",
    "              \"FOREIGN KEY(matrix) REFERENCES matricies(rowid)\",\n",
    "              \"FOREIGN KEY(weave) REFERENCES weaves(rowid)\"]\n",
    "\n",
    "cur = conn.cursor()\n",
    "cur.execute(createTableStr(\"laminas\", tb_laminas))\n",
    "cur.close()\n",
    "conn.commit()"
   ]
  },
  {
   "cell_type": "code",
   "execution_count": 27,
   "metadata": {},
   "outputs": [],
   "source": [
    "cur = conn.cursor()\n",
    "\n",
    "cur.execute(\"DROP TABLE laminas\")\n",
    "cur.close()\n",
    "conn.commit()"
   ]
  },
  {
   "cell_type": "markdown",
   "metadata": {},
   "source": [
    "Add dummy data to Laminas table"
   ]
  },
  {
   "cell_type": "code",
   "execution_count": 29,
   "metadata": {},
   "outputs": [
    {
     "ename": "OperationalError",
     "evalue": "table laminas has 13 columns but 12 values were supplied",
     "output_type": "error",
     "traceback": [
      "\u001b[1;31m---------------------------------------------------------------------------\u001b[0m",
      "\u001b[1;31mOperationalError\u001b[0m                          Traceback (most recent call last)",
      "\u001b[1;32m<ipython-input-29-092db31ad3e7>\u001b[0m in \u001b[0;36m<module>\u001b[1;34m\u001b[0m\n\u001b[0;32m      6\u001b[0m \u001b[1;33m\u001b[0m\u001b[0m\n\u001b[0;32m      7\u001b[0m \u001b[1;32mfor\u001b[0m \u001b[0mlamina\u001b[0m \u001b[1;32min\u001b[0m \u001b[0mlist_laminas\u001b[0m\u001b[1;33m:\u001b[0m\u001b[1;33m\u001b[0m\u001b[1;33m\u001b[0m\u001b[0m\n\u001b[1;32m----> 8\u001b[1;33m     \u001b[0mcur\u001b[0m\u001b[1;33m.\u001b[0m\u001b[0mexecute\u001b[0m\u001b[1;33m(\u001b[0m\u001b[1;34m\"INSERT INTO laminas VALUES (?,?,?,?,?,?,?,?,?,?,?,?)\"\u001b[0m\u001b[1;33m,\u001b[0m \u001b[0mtuple\u001b[0m\u001b[1;33m(\u001b[0m\u001b[0mlamina\u001b[0m\u001b[1;33m)\u001b[0m\u001b[1;33m)\u001b[0m\u001b[1;33m\u001b[0m\u001b[1;33m\u001b[0m\u001b[0m\n\u001b[0m\u001b[0;32m      9\u001b[0m \u001b[1;33m\u001b[0m\u001b[0m\n\u001b[0;32m     10\u001b[0m \u001b[0mcur\u001b[0m\u001b[1;33m.\u001b[0m\u001b[0mclose\u001b[0m\u001b[1;33m(\u001b[0m\u001b[1;33m)\u001b[0m\u001b[1;33m\u001b[0m\u001b[1;33m\u001b[0m\u001b[0m\n",
      "\u001b[1;31mOperationalError\u001b[0m: table laminas has 13 columns but 12 values were supplied"
     ]
    }
   ],
   "source": [
    "list_laminas = [[\"IMS60\", 2, 4, 200, 200, 150, 0.3, 0.5, 120, 0.102, 1, 1, \"test ply 1\"],\n",
    "                [\"Akku aramid\", 1, 6, 20, 20, 10, 0.3, 0.45, 150, 0.02, 1, 1, \"test ply 2\"]]\n",
    "\n",
    "\n",
    "cur = conn.cursor()\n",
    "\n",
    "for lamina in list_laminas:\n",
    "    cur.execute(\"INSERT INTO laminas VALUES (?,?,?,?,?,?,?,?,?,?,?,?,?)\", tuple(lamina))\n",
    "\n",
    "cur.close()\n",
    "conn.commit()"
   ]
  },
  {
   "cell_type": "code",
   "execution_count": 12,
   "metadata": {},
   "outputs": [],
   "source": [
    "cur = conn.cursor()\n",
    "data = cur.execute(\"select * from laminas\").fetchall()\n",
    "cur.close()"
   ]
  },
  {
   "cell_type": "code",
   "execution_count": 20,
   "metadata": {},
   "outputs": [
    {
     "data": {
      "text/plain": [
       "2"
      ]
     },
     "execution_count": 20,
     "metadata": {},
     "output_type": "execute_result"
    }
   ],
   "source": [
    "cur = conn.cursor()\n",
    "cur.execute(\"SELECT rowid FROM materials WHERE name IS 'Carbon'\").fetchall()[0][0]"
   ]
  }
 ],
 "metadata": {
  "kernelspec": {
   "display_name": "Python 3.9.0 64-bit",
   "language": "python",
   "name": "python3"
  },
  "language_info": {
   "codemirror_mode": {
    "name": "ipython",
    "version": 3
   },
   "file_extension": ".py",
   "mimetype": "text/x-python",
   "name": "python",
   "nbconvert_exporter": "python",
   "pygments_lexer": "ipython3",
   "version": "3.9.0"
  },
  "orig_nbformat": 4,
  "vscode": {
   "interpreter": {
    "hash": "edc53539e062c2799891471cdebafca1ea20b15f0d1ed3859620b0e58f6725c3"
   }
  }
 },
 "nbformat": 4,
 "nbformat_minor": 2
}
